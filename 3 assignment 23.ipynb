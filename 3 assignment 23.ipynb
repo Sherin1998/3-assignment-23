{
 "cells": [
  {
   "cell_type": "code",
   "execution_count": 1,
   "metadata": {},
   "outputs": [
    {
     "name": "stdout",
     "output_type": "stream",
     "text": [
      "True\n"
     ]
    }
   ],
   "source": [
    "#1\n",
    "\n",
    "def is_symmetrical(x):\n",
    "    w=str(x)\n",
    "    temp=w[-1::-1]\n",
    "    if(temp==w):\n",
    "        return True\n",
    "    else:\n",
    "        return False\n",
    "    \n",
    "x=1112111                             #7227 , 44444444,9939,1112111\n",
    "print(is_symmetrical(x))\n"
   ]
  },
  {
   "cell_type": "code",
   "execution_count": 2,
   "metadata": {},
   "outputs": [
    {
     "name": "stdout",
     "output_type": "stream",
     "text": [
      "-20\n"
     ]
    }
   ],
   "source": [
    "#2\n",
    "\n",
    "def multiply_nums(x):\n",
    "    sum=1\n",
    "    s=x.split(', ')\n",
    "    for i in s:\n",
    "        sum*=(int(i))\n",
    "    return sum\n",
    "\n",
    "                                                               \n",
    "x='10, -2'\n",
    "print(multiply_nums(x))                              #'10, -2' , '1, 2, 3, 4' ,'54, 75, 543 , 0'\n",
    " "
   ]
  },
  {
   "cell_type": "code",
   "execution_count": null,
   "metadata": {},
   "outputs": [],
   "source": [
    "#3\n",
    "\n",
    "def square_digits(x):\n",
    "    sn=[]\n",
    "    while(x!=0):\n",
    "        temp=x%10\n",
    "        sn.append(str(temp**2))\n",
    "        x=x//10\n",
    "    return sn\n",
    "               \n",
    "x=9119                                       #2483,3212\n",
    "wer=square_digits(x)\n",
    "wer.reverse()\n",
    "print(''.join(wer))    \n",
    "    "
   ]
  },
  {
   "cell_type": "code",
   "execution_count": 16,
   "metadata": {},
   "outputs": [
    {
     "name": "stdout",
     "output_type": "stream",
     "text": [
      "[1, 4, 5, 6, 7, 343]\n"
     ]
    }
   ],
   "source": [
    "#4\n",
    "\n",
    "def setify(l):\n",
    "    b=[]\n",
    "    for i in l:\n",
    "        if i not in b:\n",
    "            b.append(i)\n",
    "    return(sorted(b))\n",
    "    \n",
    "l=[1,1,1,4,5,6,343,7,7]\n",
    "print(setify(l))              #[4,4,4,4,4],[5,7,8,9,10,15],[3,3,3,2,1]"
   ]
  },
  {
   "cell_type": "code",
   "execution_count": 23,
   "metadata": {},
   "outputs": [
    {
     "name": "stdout",
     "output_type": "stream",
     "text": [
      "Mean of sum of digits :  3\n"
     ]
    }
   ],
   "source": [
    "#5\n",
    "\n",
    "def mean(x):\n",
    "    sum=0\n",
    "    len1=len(str(x))\n",
    "    while(x!=0):\n",
    "        d=x%10\n",
    "        sum+=d\n",
    "        x=x//10\n",
    "    res=sum/len1\n",
    "    return  res\n",
    "        \n",
    "x=1233456                      #12345,42\n",
    "print('Mean of sum of digits : ',int(mean(x)))"
   ]
  },
  {
   "cell_type": "code",
   "execution_count": null,
   "metadata": {},
   "outputs": [],
   "source": []
  }
 ],
 "metadata": {
  "kernelspec": {
   "display_name": "Python 3",
   "language": "python",
   "name": "python3"
  },
  "language_info": {
   "codemirror_mode": {
    "name": "ipython",
    "version": 3
   },
   "file_extension": ".py",
   "mimetype": "text/x-python",
   "name": "python",
   "nbconvert_exporter": "python",
   "pygments_lexer": "ipython3",
   "version": "3.8.3"
  }
 },
 "nbformat": 4,
 "nbformat_minor": 4
}
